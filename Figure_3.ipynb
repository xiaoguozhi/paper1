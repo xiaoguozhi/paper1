{
 "cells": [
  {
   "cell_type": "code",
   "execution_count": 1,
   "metadata": {},
   "outputs": [],
   "source": [
    "import pandas as pd\n",
    "import numpy as np\n",
    "import matplotlib.pyplot as plt\n",
    "import matplotlib.dates as mdates"
   ]
  },
  {
   "cell_type": "code",
   "execution_count": 2,
   "metadata": {},
   "outputs": [],
   "source": [
    "dat=pd.read_excel(\"F:/2021-10-22/data/Electricity_data/30minutes_data/6_center.xlsx\")"
   ]
  },
  {
   "cell_type": "code",
   "execution_count": 3,
   "metadata": {},
   "outputs": [
    {
     "data": {
      "text/html": [
       "<div>\n",
       "<style scoped>\n",
       "    .dataframe tbody tr th:only-of-type {\n",
       "        vertical-align: middle;\n",
       "    }\n",
       "\n",
       "    .dataframe tbody tr th {\n",
       "        vertical-align: top;\n",
       "    }\n",
       "\n",
       "    .dataframe thead th {\n",
       "        text-align: right;\n",
       "    }\n",
       "</style>\n",
       "<table border=\"1\" class=\"dataframe\">\n",
       "  <thead>\n",
       "    <tr style=\"text-align: right;\">\n",
       "      <th></th>\n",
       "      <th>Time</th>\n",
       "      <th>Pattern 1</th>\n",
       "      <th>Pattern 2</th>\n",
       "      <th>Pattern 3</th>\n",
       "      <th>Pattern 4</th>\n",
       "      <th>Pattern 5</th>\n",
       "      <th>Pattern 6</th>\n",
       "    </tr>\n",
       "  </thead>\n",
       "  <tbody>\n",
       "    <tr>\n",
       "      <th>0</th>\n",
       "      <td>1</td>\n",
       "      <td>0.161975</td>\n",
       "      <td>0.518747</td>\n",
       "      <td>0.326197</td>\n",
       "      <td>0.439074</td>\n",
       "      <td>0.933382</td>\n",
       "      <td>0.398535</td>\n",
       "    </tr>\n",
       "    <tr>\n",
       "      <th>1</th>\n",
       "      <td>2</td>\n",
       "      <td>0.141397</td>\n",
       "      <td>0.429732</td>\n",
       "      <td>0.277175</td>\n",
       "      <td>0.372841</td>\n",
       "      <td>0.813030</td>\n",
       "      <td>0.336764</td>\n",
       "    </tr>\n",
       "    <tr>\n",
       "      <th>2</th>\n",
       "      <td>3</td>\n",
       "      <td>0.128576</td>\n",
       "      <td>0.368713</td>\n",
       "      <td>0.243980</td>\n",
       "      <td>0.326163</td>\n",
       "      <td>0.722443</td>\n",
       "      <td>0.295952</td>\n",
       "    </tr>\n",
       "    <tr>\n",
       "      <th>3</th>\n",
       "      <td>4</td>\n",
       "      <td>0.119899</td>\n",
       "      <td>0.331420</td>\n",
       "      <td>0.222405</td>\n",
       "      <td>0.295054</td>\n",
       "      <td>0.660874</td>\n",
       "      <td>0.268958</td>\n",
       "    </tr>\n",
       "    <tr>\n",
       "      <th>4</th>\n",
       "      <td>5</td>\n",
       "      <td>0.114819</td>\n",
       "      <td>0.304533</td>\n",
       "      <td>0.207838</td>\n",
       "      <td>0.272333</td>\n",
       "      <td>0.614317</td>\n",
       "      <td>0.249845</td>\n",
       "    </tr>\n",
       "  </tbody>\n",
       "</table>\n",
       "</div>"
      ],
      "text/plain": [
       "   Time  Pattern 1  Pattern 2  Pattern 3  Pattern 4  Pattern 5  Pattern 6\n",
       "0     1   0.161975   0.518747   0.326197   0.439074   0.933382   0.398535\n",
       "1     2   0.141397   0.429732   0.277175   0.372841   0.813030   0.336764\n",
       "2     3   0.128576   0.368713   0.243980   0.326163   0.722443   0.295952\n",
       "3     4   0.119899   0.331420   0.222405   0.295054   0.660874   0.268958\n",
       "4     5   0.114819   0.304533   0.207838   0.272333   0.614317   0.249845"
      ]
     },
     "execution_count": 3,
     "metadata": {},
     "output_type": "execute_result"
    }
   ],
   "source": [
    "dat.head()"
   ]
  },
  {
   "cell_type": "code",
   "execution_count": 4,
   "metadata": {},
   "outputs": [
    {
     "data": {
      "text/plain": [
       "Index(['11:00:00', '11:30:00', '12:00:00', '12:30:00', '13:00:00', '13:30:00',\n",
       "       '14:00:00', '14:30:00', '15:00:00', '15:30:00', '16:00:00', '16:30:00',\n",
       "       '17:00:00', '17:30:00', '18:00:00', '18:30:00', '19:00:00', '19:30:00',\n",
       "       '20:00:00', '20:30:00', '21:00:00', '21:30:00'],\n",
       "      dtype='object')"
      ]
     },
     "execution_count": 4,
     "metadata": {},
     "output_type": "execute_result"
    }
   ],
   "source": [
    "pd.date_range(\"11:00\", \"21:30\", freq=\"30min\").strftime('%H:%M:%S')"
   ]
  },
  {
   "cell_type": "code",
   "execution_count": 5,
   "metadata": {},
   "outputs": [],
   "source": [
    "idx=pd.date_range(\"2010-01-01 00:00\", \"2010-01-01 23:30\", freq = \"30min\")"
   ]
  },
  {
   "cell_type": "code",
   "execution_count": 6,
   "metadata": {},
   "outputs": [
    {
     "data": {
      "text/plain": [
       "DatetimeIndex(['2010-01-01 00:00:00', '2010-01-01 00:30:00',\n",
       "               '2010-01-01 01:00:00', '2010-01-01 01:30:00',\n",
       "               '2010-01-01 02:00:00', '2010-01-01 02:30:00',\n",
       "               '2010-01-01 03:00:00', '2010-01-01 03:30:00',\n",
       "               '2010-01-01 04:00:00', '2010-01-01 04:30:00',\n",
       "               '2010-01-01 05:00:00', '2010-01-01 05:30:00',\n",
       "               '2010-01-01 06:00:00', '2010-01-01 06:30:00',\n",
       "               '2010-01-01 07:00:00', '2010-01-01 07:30:00',\n",
       "               '2010-01-01 08:00:00', '2010-01-01 08:30:00',\n",
       "               '2010-01-01 09:00:00', '2010-01-01 09:30:00',\n",
       "               '2010-01-01 10:00:00', '2010-01-01 10:30:00',\n",
       "               '2010-01-01 11:00:00', '2010-01-01 11:30:00',\n",
       "               '2010-01-01 12:00:00', '2010-01-01 12:30:00',\n",
       "               '2010-01-01 13:00:00', '2010-01-01 13:30:00',\n",
       "               '2010-01-01 14:00:00', '2010-01-01 14:30:00',\n",
       "               '2010-01-01 15:00:00', '2010-01-01 15:30:00',\n",
       "               '2010-01-01 16:00:00', '2010-01-01 16:30:00',\n",
       "               '2010-01-01 17:00:00', '2010-01-01 17:30:00',\n",
       "               '2010-01-01 18:00:00', '2010-01-01 18:30:00',\n",
       "               '2010-01-01 19:00:00', '2010-01-01 19:30:00',\n",
       "               '2010-01-01 20:00:00', '2010-01-01 20:30:00',\n",
       "               '2010-01-01 21:00:00', '2010-01-01 21:30:00',\n",
       "               '2010-01-01 22:00:00', '2010-01-01 22:30:00',\n",
       "               '2010-01-01 23:00:00', '2010-01-01 23:30:00'],\n",
       "              dtype='datetime64[ns]', freq='30T')"
      ]
     },
     "execution_count": 6,
     "metadata": {},
     "output_type": "execute_result"
    }
   ],
   "source": [
    "idx"
   ]
  },
  {
   "cell_type": "code",
   "execution_count": 7,
   "metadata": {},
   "outputs": [],
   "source": [
    "dat['Time']=idx"
   ]
  },
  {
   "cell_type": "code",
   "execution_count": 8,
   "metadata": {},
   "outputs": [
    {
     "data": {
      "text/html": [
       "<div>\n",
       "<style scoped>\n",
       "    .dataframe tbody tr th:only-of-type {\n",
       "        vertical-align: middle;\n",
       "    }\n",
       "\n",
       "    .dataframe tbody tr th {\n",
       "        vertical-align: top;\n",
       "    }\n",
       "\n",
       "    .dataframe thead th {\n",
       "        text-align: right;\n",
       "    }\n",
       "</style>\n",
       "<table border=\"1\" class=\"dataframe\">\n",
       "  <thead>\n",
       "    <tr style=\"text-align: right;\">\n",
       "      <th></th>\n",
       "      <th>Time</th>\n",
       "      <th>Pattern 1</th>\n",
       "      <th>Pattern 2</th>\n",
       "      <th>Pattern 3</th>\n",
       "      <th>Pattern 4</th>\n",
       "      <th>Pattern 5</th>\n",
       "      <th>Pattern 6</th>\n",
       "    </tr>\n",
       "  </thead>\n",
       "  <tbody>\n",
       "    <tr>\n",
       "      <th>0</th>\n",
       "      <td>2010-01-01 00:00:00</td>\n",
       "      <td>0.161975</td>\n",
       "      <td>0.518747</td>\n",
       "      <td>0.326197</td>\n",
       "      <td>0.439074</td>\n",
       "      <td>0.933382</td>\n",
       "      <td>0.398535</td>\n",
       "    </tr>\n",
       "    <tr>\n",
       "      <th>1</th>\n",
       "      <td>2010-01-01 00:30:00</td>\n",
       "      <td>0.141397</td>\n",
       "      <td>0.429732</td>\n",
       "      <td>0.277175</td>\n",
       "      <td>0.372841</td>\n",
       "      <td>0.813030</td>\n",
       "      <td>0.336764</td>\n",
       "    </tr>\n",
       "    <tr>\n",
       "      <th>2</th>\n",
       "      <td>2010-01-01 01:00:00</td>\n",
       "      <td>0.128576</td>\n",
       "      <td>0.368713</td>\n",
       "      <td>0.243980</td>\n",
       "      <td>0.326163</td>\n",
       "      <td>0.722443</td>\n",
       "      <td>0.295952</td>\n",
       "    </tr>\n",
       "    <tr>\n",
       "      <th>3</th>\n",
       "      <td>2010-01-01 01:30:00</td>\n",
       "      <td>0.119899</td>\n",
       "      <td>0.331420</td>\n",
       "      <td>0.222405</td>\n",
       "      <td>0.295054</td>\n",
       "      <td>0.660874</td>\n",
       "      <td>0.268958</td>\n",
       "    </tr>\n",
       "    <tr>\n",
       "      <th>4</th>\n",
       "      <td>2010-01-01 02:00:00</td>\n",
       "      <td>0.114819</td>\n",
       "      <td>0.304533</td>\n",
       "      <td>0.207838</td>\n",
       "      <td>0.272333</td>\n",
       "      <td>0.614317</td>\n",
       "      <td>0.249845</td>\n",
       "    </tr>\n",
       "  </tbody>\n",
       "</table>\n",
       "</div>"
      ],
      "text/plain": [
       "                 Time  Pattern 1  Pattern 2  Pattern 3  Pattern 4  Pattern 5  \\\n",
       "0 2010-01-01 00:00:00   0.161975   0.518747   0.326197   0.439074   0.933382   \n",
       "1 2010-01-01 00:30:00   0.141397   0.429732   0.277175   0.372841   0.813030   \n",
       "2 2010-01-01 01:00:00   0.128576   0.368713   0.243980   0.326163   0.722443   \n",
       "3 2010-01-01 01:30:00   0.119899   0.331420   0.222405   0.295054   0.660874   \n",
       "4 2010-01-01 02:00:00   0.114819   0.304533   0.207838   0.272333   0.614317   \n",
       "\n",
       "   Pattern 6  \n",
       "0   0.398535  \n",
       "1   0.336764  \n",
       "2   0.295952  \n",
       "3   0.268958  \n",
       "4   0.249845  "
      ]
     },
     "execution_count": 8,
     "metadata": {},
     "output_type": "execute_result"
    }
   ],
   "source": [
    "dat.head()"
   ]
  },
  {
   "cell_type": "code",
   "execution_count": 11,
   "metadata": {},
   "outputs": [
    {
     "data": {
      "image/png": "[encoded data removed]",
      "text/plain": [
       "<Figure size 576x432 with 1 Axes>"
      ]
     },
     "metadata": {
      "needs_background": "light"
     },
     "output_type": "display_data"
    }
   ],
   "source": [
    "fig, ax = plt.subplots()\n",
    "fig.set_size_inches(8,6)\n",
    "hours = mdates.HourLocator(interval = 2)\n",
    "h_fmt = mdates.DateFormatter('%H:%M:%S')\n",
    "\n",
    "ax.plot(dat['Time'], dat['Pattern 1'], linewidth = 1,marker='o',markersize=2,label=\"Pattern 1\")\n",
    "ax.plot(dat['Time'], dat['Pattern 2'], linewidth = 1,marker='o',markersize=2,label=\"Pattern 2\")\n",
    "ax.plot(dat['Time'], dat['Pattern 3'], linewidth = 1,marker='o',markersize=2,label=\"Pattern 3\")\n",
    "ax.plot(dat['Time'], dat['Pattern 4'], linewidth = 1,marker='o',markersize=2,label=\"Pattern 4\")\n",
    "ax.plot(dat['Time'], dat['Pattern 5'], linewidth = 1,marker='o',markersize=2,label=\"Pattern 5\")\n",
    "ax.plot(dat['Time'], dat['Pattern 6'], linewidth = 1,marker='o',markersize=2,label=\"Pattern 6\")\n",
    "\n",
    "#or use\n",
    "#Then tick and format with matplotlib:\n",
    "ax.xaxis.set_major_locator(hours)\n",
    "ax.xaxis.set_major_formatter(h_fmt)\n",
    "ax.legend( loc = 'best',prop={ 'size':10})\n",
    "fig.autofmt_xdate()\n",
    "plt.xlabel('Time of day',fontdict={'size':12})\n",
    "plt.ylabel('Electricity consumption (kWh per 1/2 h)',fontsize=12)\n",
    "plt.show()"
   ]
  },
  {
   "cell_type": "code",
   "execution_count": null,
   "metadata": {},
   "outputs": [],
   "source": []
  }
 ],
 "metadata": {
  "kernelspec": {
   "display_name": "Python 3",
   "language": "python",
   "name": "python3"
  },
  "language_info": {
   "codemirror_mode": {
    "name": "ipython",
    "version": 3
   },
   "file_extension": ".py",
   "mimetype": "text/x-python",
   "name": "python",
   "nbconvert_exporter": "python",
   "pygments_lexer": "ipython3",
   "version": "3.7.10"
  }
 },
 "nbformat": 4,
 "nbformat_minor": 4
}
