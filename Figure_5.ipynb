{
 "cells": [
  {
   "cell_type": "code",
   "execution_count": 2,
   "id": "b2cf0795",
   "metadata": {},
   "outputs": [],
   "source": [
    "import pandas as pd\n",
    "from pySankey import sankey\n",
    "import matplotlib.pyplot as plt"
   ]
  },
  {
   "cell_type": "code",
   "execution_count": null,
   "id": "574c933b",
   "metadata": {},
   "outputs": [],
   "source": [
    "df=pd.read_csv('D:/data/Electricity_data/30minutes_data/gmatrix6_new.csv',index_col=0) #with pattern's name\n",
    "#df=pd.read_csv('D:/data/Electricity_data/30minutes_data/gmatrix6.csv',index_col=0) #without pattern's name"
   ]
  },
  {
   "cell_type": "code",
   "execution_count": null,
   "id": "d3a90aa5",
   "metadata": {},
   "outputs": [],
   "source": [
    "#Figure 5-a\n",
    "sankey.sankey(df['14'],df['20'],aspect=20,fontsize=14)\n",
    "plt.xlabel('xlabel', fontsize=18)\n",
    "plt.ylabel('ylabel', fontsize=16)\n",
    "plt.gcf().set_size_inches(9,8)"
   ]
  },
  {
   "cell_type": "code",
   "execution_count": null,
   "id": "95cc612f",
   "metadata": {},
   "outputs": [],
   "source": [
    "#Figure 5-b\n",
    "sankey.sankey(df['1'],df['164'],aspect=20,fontsize=14)\n",
    "plt.gcf().set_size_inches(9,8)"
   ]
  }
 ],
 "metadata": {
  "kernelspec": {
   "display_name": "Python 3",
   "language": "python",
   "name": "python3"
  },
  "language_info": {
   "codemirror_mode": {
    "name": "ipython",
    "version": 3
   },
   "file_extension": ".py",
   "mimetype": "text/x-python",
   "name": "python",
   "nbconvert_exporter": "python",
   "pygments_lexer": "ipython3",
   "version": "3.8.8"
  }
 },
 "nbformat": 4,
 "nbformat_minor": 5
}
